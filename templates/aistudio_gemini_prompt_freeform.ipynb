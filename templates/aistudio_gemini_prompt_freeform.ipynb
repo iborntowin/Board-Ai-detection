{
  "cells": [
    {
      "cell_type": "markdown",
      "metadata": {
        "id": "Tce3stUlHN0L"
      },
      "source": [
        "##### Copyright 2023 Google LLC"
      ]
    },
    {
      "cell_type": "code",
      "execution_count": 2,
      "metadata": {
        "cellView": "form",
        "id": "tuOe1ymfHZPu"
      },
      "outputs": [],
      "source": [
        "# @title Licensed under the Apache License, Version 2.0 (the \"License\");\n",
        "# you may not use this file except in compliance with the License.\n",
        "# You may obtain a copy of the License at\n",
        "#\n",
        "# https://www.apache.org/licenses/LICENSE-2.0\n",
        "#\n",
        "# Unless required by applicable law or agreed to in writing, software\n",
        "# distributed under the License is distributed on an \"AS IS\" BASIS,\n",
        "# WITHOUT WARRANTIES OR CONDITIONS OF ANY KIND, either express or implied.\n",
        "# See the License for the specific language governing permissions and\n",
        "# limitations under the License."
      ]
    },
    {
      "cell_type": "markdown",
      "metadata": {
        "id": "FKwyTRdwB8aW"
      },
      "source": [
        "## Setup"
      ]
    },
    {
      "cell_type": "code",
      "execution_count": null,
      "metadata": {
        "id": "RXInneX6xx7c"
      },
      "outputs": [],
      "source": [
        "!pip install -U -q \"google-generativeai>=0.8.2\""
      ]
    },
    {
      "cell_type": "code",
      "execution_count": 3,
      "metadata": {
        "cellView": "form",
        "id": "kWIuwKG2_oWE",
        "colab": {
          "base_uri": "https://localhost:8080/"
        },
        "outputId": "cd016728-8b06-4c5f-d9db-1cf55e3c7d89"
      },
      "outputs": [
        {
          "output_type": "stream",
          "name": "stdout",
          "text": [
            "[\n",
            "    {\n",
            "        \"role\": \"user\",\n",
            "        \"parts\": [\n",
            "            {\n",
            "                \"text\": \"chat bot that respond on food delivery app client reclamations \\\\\\\"User: \\\\\\\"The food was cold when it arrived.\\\\\\\" Bot: \\\\\\\"We're sorry your food was cold. We'll improve our packaging to keep your food warm. Would you like us to send a replacement or a voucher for your next order?\\\\\\\"\\\\n\\\\nUser: \\\\\\\"It wasn\\u2019t spicy at all. Very bland!\\\\\\\" Bot: \\\\\\\"We apologize if the food wasn't spicy enough. Could you let us know your preferred spice level? We can adjust it next time!\\\\\\\"\\\\n\\\\nUser: \\\\\\\"The food was too sweet for me.\\\\\\\" Bot: \\\\\\\"We're sorry the food was too sweet. Please tell us your sweetness preference so we can cater to your taste in the future!\\\\\\\"\\\\n\\\\nUser: \\\\\\\"The portion size was really small.\\\\\\\" Bot: \\\\\\\"We\\u2019re sorry the portion size didn\\u2019t meet your expectations. We\\u2019ll review this with our kitchen team. Would you like a discount on your next order?\\\\\\\"\\\\n\\\\nUser: \\\\\\\"The delivery was so late.\\\\\\\" Bot: \\\\\\\"We apologize for the delay in delivery. We\\u2019ll work on improving our timings. Would you like a voucher for your next order?\\\\\\\"\\\\n\\\\nUser: \\\\\\\"I got the wrong order.\\\\\\\" Bot: \\\\\\\"We apologize for the mix-up. We\\u2019ll send the correct order right away or issue a refund. What would you prefer?\\\\\\\"\\\\n\\\\nUser: \\\\\\\"I loved the food!\\\\\\\" Bot: \\\\\\\"Thank you for your positive feedback! We're thrilled you enjoyed your meal. Let us know if there's anything else we can do for you!\\\\\\\"\\\\n\\\\nUser: \\\\\\\"Fantastic service as always!\\\\\\\" Bot: \\\\\\\"Thank you so much for your kind words! We're delighted to hear you had an excellent experience. We look forward to serving you again!\\\\\\\"\\\\\\\"\"\n",
            "            }\n",
            "        ]\n",
            "    },\n",
            "    {\n",
            "        \"role\": \"model\",\n",
            "        \"parts\": [\n",
            "            {\n",
            "                \"text\": \"Okay, this is a great start! Here's a slightly expanded and more versatile version of your chatbot responses, focusing on a consistent tone, empathy, and a proactive approach to resolving issues. I've also added a few new response examples:\\\\n\\\\n**Core Principles:**\\\\n\\\\n* **Empathy:** Acknowledge the user's feelings (\\\\\\\"We're sorry,\\\\\\\" \\\\\\\"We understand\\\\\\\").\\\\n* **Proactive Solution:** Offer a solution or ask questions to understand the issue better.\\\\n* **Personalization:** Use \\\\\\\"you\\\\\\\" and \\\\\\\"your\\\\\\\" to make it feel personal.\\\\n* **Professional Tone:** Maintain a polite and helpful demeanor.\\\\n* **Clear Options:** Provide specific choices when offering a resolution.\\\\n\\\\n**Expanded Chatbot Responses:**\\\\n\\\\n**General Issues:**\\\\n\\\\n* **User:** \\\\\\\"The food was cold when it arrived.\\\\\\\"\\\\n    * **Bot:** \\\\\\\"We're so sorry your food arrived cold. We understand how disappointing that is. We're working on improving our packaging to keep your meals warm during delivery. Would you prefer a replacement of your order or a voucher for your next purchase?\\\\\\\"\\\\n* **User:** \\\\\\\"The delivery was so late.\\\\\\\"\\\\n    * **Bot:** \\\\\\\"We sincerely apologize for the delay in your delivery. We're actively working on improving our delivery times. To compensate for the inconvenience, would you like a voucher for your next order?\\\\\\\"\\\\n* **User:** \\\\\\\"I got the wrong order.\\\\\\\"\\\\n    * **Bot:** \\\\\\\"Oh no, we are very sorry for the mix-up! We'll rectify this immediately. Would you prefer we send the correct order to you right away, or would you prefer a full refund?\\\\\\\"\\\\n* **User:** \\\\\\\"I received part of my order but not the full thing\\\\\\\"\\\\n    * **Bot:** \\\\\\\"We sincerely apologise for this. We're very sorry your order was incomplete. We'll rectify this immediately. Would you prefer we send the rest of your order to you right away, or would you prefer a refund for the missing items?\\\\\\\"\\\\n* **User:** \\\\\\\"The delivery driver was rude\\\\\\\"\\\\n    * **Bot:** \\\\\\\"We apologise for the behaviour of our driver. We're very sorry for the inconvenience this caused you. We will address the matter with the driver. Would you like a voucher for your next order?\\\\\\\"\\\\n\\\\n**Food-Specific Issues:**\\\\n\\\\n*   **User:** \\\\\\\"It wasn\\u2019t spicy at all. Very bland!\\\\\\\"\\\\n    *   **Bot:** \\\\\\\"We apologize if the food wasn't spicy enough for your liking. We definitely want to get it right for you next time! Could you tell us what your preferred spice level is (e.g., mild, medium, hot)? We'll make sure it's adjusted to your taste in the future.\\\\\\\"\\\\n*   **User:** \\\\\\\"The food was too sweet for me.\\\\\\\"\\\\n    *   **Bot:** \\\\\\\"We're so sorry the food was too sweet for you. We appreciate you letting us know. Please share your sweetness preference (e.g., less sweet, not at all sweet) so we can prepare your future orders exactly to your liking.\\\\\\\"\\\\n*   **User:** \\\\\\\"The portion size was really small.\\\\\\\"\\\\n    *   **Bot:** \\\\\\\"We understand your disappointment with the portion size. We value your feedback and will definitely review this with our kitchen team. To make it up to you, would you be interested in a discount on your next order, or would you prefer a voucher?\\\\\\\"\\\\n*   **User:** \\\\\\\"The food was greasy.\\\\\\\"\\\\n     *   **Bot:** \\\\\\\"We're sorry to hear that the food was too greasy for you. We'll pass this on to the kitchen to ensure better preparation in the future. Can we offer you a discount on your next order to try something different?\\\\\\\"\\\\n*   **User:** \\\\\\\"The food was undercooked.\\\\\\\"\\\\n      *   **Bot:** \\\\\\\"We sincerely apologize that your food was undercooked. This is not up to our standards. We can offer a refund or send a new meal immediately. What would you prefer?\\\\\\\"\\\\n*   **User:** \\\\\\\"The vegetables were overcooked\\\\\\\"\\\\n        *   **Bot:** \\\\\\\"We're very sorry to hear that your vegetables were overcooked. This is not up to our standards. We'll inform the kitchen and in the future, we can ensure your vegetables are cooked to your preference. Could we offer you a discount on your next order to try something different?\\\\\\\"\\\\n\\\\n**Positive Feedback:**\\\\n\\\\n*   **User:** \\\\\\\"I loved the food!\\\\\\\"\\\\n    *   **Bot:** \\\\\\\"That's fantastic to hear! Thank you so much for your positive feedback. We're thrilled you enjoyed your meal and hope to serve you again soon!\\\\\\\"\\\\n*   **User:** \\\\\\\"Fantastic service as always!\\\\\\\"\\\\n    *   **Bot:** \\\\\\\"Thank you so much for your kind words! We're delighted to know you're enjoying our service. We really appreciate your loyalty and look forward to serving you again!\\\\\\\"\\\\n*    **User:** \\\\\\\"The delivery driver was so friendly!\\\\\\\"\\\\n    *   **Bot:** \\\\\\\"Thank you for letting us know! We're so happy you had a great experience with our delivery driver. We'll make sure they receive your positive feedback.\\\\\\\"\\\\n\\\\n**Key Improvements and Considerations:**\\\\n\\\\n*   **Variety:** The responses vary more in phrasing, avoiding repetition.\\\\n*   **Probing Questions:** The chatbot asks more follow-up questions to better understand preferences.\\\\n*   **Clear Options:** Offers clear options (\\\\\\\"replacement,\\\\\\\" \\\\\\\"refund,\\\\\\\" \\\\\\\"voucher,\\\\\\\" \\\\\\\"discount\\\\\\\").\\\\n*   **Consistency:** Maintains a professional and helpful tone throughout.\\\\n*   **Flexibility:** Can handle different types of complaints with appropriate responses.\\\\n*   **Personalized experience:** The responses are focused on the customer and their specific issue.\\\\n\\\\n**How to use it:**\\\\n\\\\n*   **Pattern Matching:** You can use pattern matching or keyword analysis to identify the general topic of the complaint (e.g., \\\\\\\"cold,\\\\\\\" \\\\\\\"late,\\\\\\\" \\\\\\\"wrong\\\\\\\").\\\\n*   **Contextual Understanding:** Use keywords or phrases to select a more specific response (e.g., \\\\\\\"too sweet\\\\\\\" triggers a sweetness-related response).\\\\n*   **A/B Testing:** Test different responses to see which performs best (e.g., which incentive leads to more repeat orders).\\\\n\\\\nLet me know if you'd like any adjustments or more examples!\\\\n\"\n",
            "            }\n",
            "        ]\n",
            "    },\n",
            "    {\n",
            "        \"role\": \"user\",\n",
            "        \"parts\": [\n",
            "            {\n",
            "                \"text\": \"make more scenarios\"\n",
            "            }\n",
            "        ]\n",
            "    },\n",
            "    {\n",
            "        \"role\": \"model\",\n",
            "        \"parts\": [\n",
            "            {\n",
            "                \"text\": \"Okay, let's expand the scenarios with more diverse situations and slightly different nuances in user complaints and chatbot responses. I'll aim for a mix of common issues and less frequent ones, keeping the same principles of empathy, proactive solutions, and clear options.\\\\n\\\\n**New Scenarios and Responses:**\\\\n\\\\n**Packaging and Presentation:**\\\\n\\\\n*   **User:** \\\\\\\"The food was all messed up in the container.\\\\\\\"\\\\n    *   **Bot:** \\\\\\\"We're so sorry to hear that your food arrived in a mess. We understand how frustrating that is. We'll review our packaging methods to ensure this doesn't happen again. Would you like us to send a replacement or offer a refund?\\\\\\\"\\\\n*   **User:** \\\\\\\"The container was leaking!\\\\\\\"\\\\n    *   **Bot:** \\\\\\\"Oh no, we apologize that your container was leaking! That's definitely not what we want for our customers. We'll improve our packaging to prevent this in the future. We can offer a replacement of your meal or a full refund \\u2013 which would you prefer?\\\\\\\"\\\\n*   **User:** \\\\\\\"The presentation of the food was poor.\\\\\\\"\\\\n    *   **Bot:** \\\\\\\"We appreciate you letting us know about the presentation of your meal. We strive to deliver meals that are both delicious and visually appealing. We'll share this feedback with our kitchen team to improve our plating. We'd like to offer you a discount on your next order, would that be acceptable?\\\\\\\"\\\\n\\\\n**Ingredients and Quality:**\\\\n\\\\n*   **User:** \\\\\\\"There was a hair in my food!\\\\\\\"\\\\n    *   **Bot:** \\\\\\\"We are deeply sorry to hear that you found a hair in your food. This is unacceptable and we will address it immediately. We will make sure this issue is addressed to our kitchen staff. We would like to offer a full refund of your order or a replacement meal - please let us know what you prefer.\\\\\\\"\\\\n*   **User:** \\\\\\\"The chicken was dry and tough.\\\\\\\"\\\\n    *   **Bot:** \\\\\\\"We're very sorry to hear the chicken wasn't up to par. We strive to ensure all our meals are cooked to perfection. We'll make sure this is addressed with the kitchen staff, and you can be assured we will be more cautious with the cooking in the future. Would you like to try a different dish on the menu with a discount or we could offer a refund?\\\\\\\"\\\\n*   **User:** \\\\\\\"The salad was wilted and not fresh.\\\\\\\"\\\\n    *   **Bot:** \\\\\\\"We're so sorry to hear your salad was wilted. We prioritize fresh ingredients and we will be working with the kitchen to ensure the ingredients are as fresh as possible. We can offer you a discount on your next order, or we can offer a refund. What would you prefer?\\\\\\\"\\\\n*  **User:** \\\\\\\"I think one of the ingredients was off\\\\\\\"\\\\n    *   **Bot:** \\\\\\\"We sincerely apologize that you had a bad experience with your food. We will be working with our kitchen and supplier to ensure all ingredients are fresh and safe. We'd like to offer you a refund or a replacement meal of your choice - please let us know what you would prefer.\\\\\\\"\\\\n*   **User:** \\\\\\\"I have an allergy and the food had an ingredient I asked not to be added!\\\\\\\"\\\\n    *   **Bot:** \\\\\\\"We are so sorry about this! We take allergies extremely seriously and we apologize profusely for this. We will be retraining our staff and kitchen to ensure this doesn't happen again. We will offer a full refund and a voucher for your next order.\\\\\\\"\\\\n\\\\n**Order Modifications and Special Requests:**\\\\n\\\\n*   **User:** \\\\\\\"I asked for no onions, but they were included.\\\\\\\"\\\\n    *   **Bot:** \\\\\\\"We apologize that your specific request for no onions was missed. We'll ensure our staff pays closer attention to special instructions moving forward. We will gladly send a replacement order made to your specification. Would that be okay?\\\\\\\"\\\\n*   **User:** \\\\\\\"I requested a specific delivery time and it was not honoured.\\\\\\\"\\\\n    *   **Bot:** \\\\\\\"We're very sorry that your requested delivery time was not met. We understand how important timely deliveries are. We can offer a voucher for your next order - or would you prefer a refund of your delivery fee?\\\\\\\"\\\\n\\\\n**Customer Service and Communication:**\\\\n\\\\n*   **User:** \\\\\\\"I tried to call but no one answered.\\\\\\\"\\\\n    *   **Bot:** \\\\\\\"We apologize that you had trouble reaching us by phone. We're working to improve our customer service availability. To make up for this, would you like a voucher for your next purchase or can we help with your current issue via chat?\\\\\\\"\\\\n*   **User:** \\\\\\\"The chat support was not helpful.\\\\\\\"\\\\n    *   **Bot:** \\\\\\\"We're very sorry to hear that you did not receive the help you needed via chat. We will address this with our support team immediately. Would you like to elaborate on your issue so we can resolve it for you now? Also, we can offer a voucher for your next order.\\\\\\\"\\\\n* **User:** \\\\\\\"It took so long to place my order\\\\\\\"\\\\n    *  **Bot:** \\\\\\\"We apologize for the delay in placing your order. We'll work to make the order process quicker and more efficient. We can offer a discount on your order for your trouble. Is this something you would be happy with?\\\\\\\"\\\\n\\\\n**Less Common, but Important Issues:**\\\\n\\\\n*   **User:** \\\\\\\"My order was missing an item I paid for\\\\\\\"\\\\n    *   **Bot:** \\\\\\\"We are very sorry that your order was missing an item. We will rectify this by offering a refund for the item, or by sending the item to you directly. Which would you prefer?\\\\\\\"\\\\n*    **User:** \\\\\\\"I got a totally different cuisine than I ordered!\\\\\\\"\\\\n    *  **Bot:** \\\\\\\"We sincerely apologise for this. This is definitely a big mistake and we are not happy this happened. We'll send the correct order right away or issue a full refund and a voucher for your next order. What would you prefer?\\\\\\\"\\\\n\\\\n**Positive Feedback with Specific Mentions:**\\\\n\\\\n*   **User:** \\\\\\\"The delivery driver was so friendly and efficient!\\\\\\\"\\\\n    *   **Bot:** \\\\\\\"That's wonderful to hear! We're glad you had a great experience with our delivery driver. We'll make sure to pass on your positive feedback to them.\\\\\\\"\\\\n*   **User:** \\\\\\\"I loved the new dish you recommended!\\\\\\\"\\\\n    *   **Bot:** \\\\\\\"We're so happy you enjoyed our recommendation! We're always looking for ways to provide you with the best dining experience. Thank you for trusting our suggestion!\\\\\\\"\\\\n* **User:** \\\\\\\"Your app was very easy to use and order!\\\\\\\"\\\\n     *  **Bot:** \\\\\\\"Thank you for letting us know! We're so happy you enjoyed your experience with our app and we will continue to try to improve it. We look forward to serving you again soon!\\\\\\\"\\\\n\\\\n**Key Takeaways from these expansions:**\\\\n\\\\n*   **Increased specificity:** The scenarios now address more precise issues related to food quality, packaging, service, and special requests.\\\\n*   **More varied responses:** The bot is more flexible in how it responds, offering different types of solutions and showing empathy in various situations.\\\\n*   **Addresses less common issues:** The scenarios now cover some of the less frequent but still important customer pain points, like missing items, or communication difficulties.\\\\n*   **Highlights positive interaction:** Positive feedback responses are more specific and mention the reason behind the positive sentiment.\\\\n\\\\nThis expanded set of scenarios should make your chatbot even more capable of handling a wider range of customer interactions. Let me know if there's anything else you'd like to explore!\\\\n\"\n",
            "            }\n",
            "        ]\n",
            "    }\n",
            "]\n"
          ]
        }
      ],
      "source": [
        "# import necessary modules.\n",
        "import base64\n",
        "import copy\n",
        "import json\n",
        "import pathlib\n",
        "import requests\n",
        "\n",
        "\n",
        "import PIL.Image\n",
        "import IPython.display\n",
        "from IPython.display import Markdown\n",
        "\n",
        "try:\n",
        "    # The SDK will automatically read it from the GOOGLE_API_KEY environment variable.\n",
        "    # In Colab get the key from Colab-secrets (\"🔑\" in the left panel).\n",
        "    import os\n",
        "    from google.colab import userdata\n",
        "\n",
        "    os.environ[\"GOOGLE_API_KEY\"] = userdata.get(\"GOOGLE_API_KEY\")\n",
        "except ImportError:\n",
        "    pass\n",
        "\n",
        "import google.generativeai as genai\n",
        "\n",
        "# Parse the arguments\n",
        "\n",
        "model = 'gemini-2.0-flash-exp' # @param {isTemplate: true}\n",
        "contents_b64 = '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' # @param {isTemplate: true}\n",
        "generation_config_b64 = 'eyJ0ZW1wZXJhdHVyZSI6MSwidG9wX3AiOjAuOTUsInRvcF9rIjo0MCwibWF4X291dHB1dF90b2tlbnMiOjgxOTJ9' # @param {isTemplate: true}\n",
        "safety_settings_b64 = \"e30=\"  # @param {isTemplate: true}\n",
        "\n",
        "gais_contents = json.loads(base64.b64decode(contents_b64))\n",
        "\n",
        "generation_config = json.loads(base64.b64decode(generation_config_b64))\n",
        "safety_settings = json.loads(base64.b64decode(safety_settings_b64))\n",
        "\n",
        "stream = False\n",
        "\n",
        "# Convert and upload the files\n",
        "\n",
        "tempfiles = pathlib.Path(f\"tempfiles\")\n",
        "tempfiles.mkdir(parents=True, exist_ok=True)\n",
        "\n",
        "\n",
        "drive = None\n",
        "def upload_file_data(file_data, index):\n",
        "    \"\"\"Upload files to the Files API.\n",
        "\n",
        "    For each file, Google AI Studio either sent:\n",
        "    - a Google Drive ID,\n",
        "    - a URL,\n",
        "    - a file path, or\n",
        "    - The raw bytes (`inline_data`).\n",
        "\n",
        "    The API only understands `inline_data` or it's Files API.\n",
        "    This code, uploads files to the files API where the API can access them.\n",
        "    \"\"\"\n",
        "\n",
        "    mime_type = file_data[\"mime_type\"]\n",
        "    if drive_id := file_data.pop(\"drive_id\", None):\n",
        "        if drive is None:\n",
        "          from google.colab import drive\n",
        "          drive.mount(\"/gdrive\")\n",
        "\n",
        "        path = next(\n",
        "            pathlib.Path(f\"/gdrive/.shortcut-targets-by-id/{drive_id}\").glob(\"*\")\n",
        "        )\n",
        "        print(\"Uploading:\", str(path))\n",
        "        file_info = genai.upload_file(path=path, mime_type=mime_type)\n",
        "        file_data[\"file_uri\"] = file_info.uri\n",
        "        return\n",
        "\n",
        "    if url := file_data.pop(\"url\", None):\n",
        "        response = requests.get(url)\n",
        "        data = response.content\n",
        "        name = url.split(\"/\")[-1]\n",
        "        path = tempfiles / str(index)\n",
        "        path.write_bytes(data)\n",
        "        print(\"Uploading:\", url)\n",
        "        file_info = genai.upload_file(path, display_name=name, mime_type=mime_type)\n",
        "        file_data[\"file_uri\"] = file_info.uri\n",
        "        return\n",
        "\n",
        "    if name := file_data.get(\"filename\", None):\n",
        "        if not pathlib.Path(name).exists():\n",
        "            raise IOError(\n",
        "                f\"local file: `{name}` does not exist. You can upload files \"\n",
        "                'to Colab using the file manager (\"📁 Files\" in the left '\n",
        "                \"toolbar)\"\n",
        "            )\n",
        "        file_info = genai.upload_file(path, display_name=name, mime_type=mime_type)\n",
        "        file_data[\"file_uri\"] = file_info.uri\n",
        "        return\n",
        "\n",
        "    if \"inline_data\" in file_data:\n",
        "        return\n",
        "\n",
        "    raise ValueError(\"Either `drive_id`, `url` or `inline_data` must be provided.\")\n",
        "\n",
        "\n",
        "contents = copy.deepcopy(gais_contents)\n",
        "\n",
        "index = 0\n",
        "for content in contents:\n",
        "    for n, part in enumerate(content[\"parts\"]):\n",
        "        if file_data := part.get(\"file_data\", None):\n",
        "            upload_file_data(file_data, index)\n",
        "            index += 1\n",
        "\n",
        "import json\n",
        "print(json.dumps(contents, indent=4))"
      ]
    },
    {
      "cell_type": "markdown",
      "metadata": {
        "id": "E7zAD69vE92b"
      },
      "source": [
        "## Call `generate_content`"
      ]
    },
    {
      "cell_type": "code",
      "execution_count": 4,
      "metadata": {
        "id": "LB2LxPmAB95V",
        "colab": {
          "base_uri": "https://localhost:8080/",
          "height": 46
        },
        "outputId": "d4ef2cf0-03c2-403f-8acb-9353b6ad9646"
      },
      "outputs": [
        {
          "output_type": "display_data",
          "data": {
            "text/plain": [
              "<IPython.core.display.Markdown object>"
            ],
            "text/markdown": "\\n\n"
          },
          "metadata": {}
        }
      ],
      "source": [
        "from IPython.display import display\n",
        "from IPython.display import Markdown\n",
        "\n",
        "# Call the model and print the response.\n",
        "gemini = genai.GenerativeModel(model_name=model)\n",
        "\n",
        "response = gemini.generate_content(\n",
        "    contents,\n",
        "    generation_config=generation_config,\n",
        "    safety_settings=safety_settings,\n",
        "    stream=stream,\n",
        ")\n",
        "\n",
        "display(Markdown(response.text))"
      ]
    },
    {
      "cell_type": "markdown",
      "metadata": {
        "id": "9c9d345e9868"
      },
      "source": [
        "<table class=\"tfo-notebook-buttons\" align=\"left\">\n",
        "  <td>\n",
        "    <a target=\"_blank\" href=\"https://ai.google.dev/gemini-api/docs\"><img src=\"https://ai.google.dev/static/site-assets/images/docs/notebook-site-button.png\" height=\"32\" width=\"32\" />Docs on ai.google.dev</a>\n",
        "  </td>\n",
        "  <td>\n",
        "    <a target=\"_blank\" href=\"https://github.com/google-gemini/cookbook/blob/main/quickstarts\"><img src=\"https://www.tensorflow.org/images/GitHub-Mark-32px.png\" />More notebooks in the Cookbook</a>\n",
        "  </td>\n",
        "</table>"
      ]
    },
    {
      "cell_type": "markdown",
      "metadata": {
        "id": "F91AeeGO1ncU"
      },
      "source": [
        "## [optional] Show the conversation\n",
        "\n",
        "This section displays the conversation received from Google AI Studio."
      ]
    },
    {
      "cell_type": "code",
      "execution_count": 5,
      "metadata": {
        "id": "yoL3p3KPylFW",
        "colab": {
          "base_uri": "https://localhost:8080/"
        },
        "outputId": "620fe79b-f146-4e9e-da75-776a9e343e36"
      },
      "outputs": [
        {
          "output_type": "stream",
          "name": "stdout",
          "text": [
            "Role: user \n",
            "\n",
            "chat bot that respond on food delivery app client reclamations \\\"User: \\\"The food was cold when it arrived.\\\" Bot: \\\"We're sorry your food was cold. We'll improve our packaging to keep your food warm. Would you like us to send a replacement or a voucher for your next order?\\\"\\n\\nUser: \\\"It wasn’t spicy at all. Very bland!\\\" Bot: \\\"We apologize if the food wasn't spicy enough. Could you let us know your preferred spice level? We can adjust it next time!\\\"\\n\\nUser: \\\"The food was too sweet for me.\\\" Bot: \\\"We're sorry the food was too sweet. Please tell us your sweetness preference so we can cater to your taste in the future!\\\"\\n\\nUser: \\\"The portion size was really small.\\\" Bot: \\\"We’re sorry the portion size didn’t meet your expectations. We’ll review this with our kitchen team. Would you like a discount on your next order?\\\"\\n\\nUser: \\\"The delivery was so late.\\\" Bot: \\\"We apologize for the delay in delivery. We’ll work on improving our timings. Would you like a voucher for your next order?\\\"\\n\\nUser: \\\"I got the wrong order.\\\" Bot: \\\"We apologize for the mix-up. We’ll send the correct order right away or issue a refund. What would you prefer?\\\"\\n\\nUser: \\\"I loved the food!\\\" Bot: \\\"Thank you for your positive feedback! We're thrilled you enjoyed your meal. Let us know if there's anything else we can do for you!\\\"\\n\\nUser: \\\"Fantastic service as always!\\\" Bot: \\\"Thank you so much for your kind words! We're delighted to hear you had an excellent experience. We look forward to serving you again!\\\"\\\" \n",
            "\n",
            "-------------------------------------------------------------------------------- \n",
            "\n",
            "Role: model \n",
            "\n",
            "Okay, this is a great start! Here's a slightly expanded and more versatile version of your chatbot responses, focusing on a consistent tone, empathy, and a proactive approach to resolving issues. I've also added a few new response examples:\\n\\n**Core Principles:**\\n\\n* **Empathy:** Acknowledge the user's feelings (\\\"We're sorry,\\\" \\\"We understand\\\").\\n* **Proactive Solution:** Offer a solution or ask questions to understand the issue better.\\n* **Personalization:** Use \\\"you\\\" and \\\"your\\\" to make it feel personal.\\n* **Professional Tone:** Maintain a polite and helpful demeanor.\\n* **Clear Options:** Provide specific choices when offering a resolution.\\n\\n**Expanded Chatbot Responses:**\\n\\n**General Issues:**\\n\\n* **User:** \\\"The food was cold when it arrived.\\\"\\n    * **Bot:** \\\"We're so sorry your food arrived cold. We understand how disappointing that is. We're working on improving our packaging to keep your meals warm during delivery. Would you prefer a replacement of your order or a voucher for your next purchase?\\\"\\n* **User:** \\\"The delivery was so late.\\\"\\n    * **Bot:** \\\"We sincerely apologize for the delay in your delivery. We're actively working on improving our delivery times. To compensate for the inconvenience, would you like a voucher for your next order?\\\"\\n* **User:** \\\"I got the wrong order.\\\"\\n    * **Bot:** \\\"Oh no, we are very sorry for the mix-up! We'll rectify this immediately. Would you prefer we send the correct order to you right away, or would you prefer a full refund?\\\"\\n* **User:** \\\"I received part of my order but not the full thing\\\"\\n    * **Bot:** \\\"We sincerely apologise for this. We're very sorry your order was incomplete. We'll rectify this immediately. Would you prefer we send the rest of your order to you right away, or would you prefer a refund for the missing items?\\\"\\n* **User:** \\\"The delivery driver was rude\\\"\\n    * **Bot:** \\\"We apologise for the behaviour of our driver. We're very sorry for the inconvenience this caused you. We will address the matter with the driver. Would you like a voucher for your next order?\\\"\\n\\n**Food-Specific Issues:**\\n\\n*   **User:** \\\"It wasn’t spicy at all. Very bland!\\\"\\n    *   **Bot:** \\\"We apologize if the food wasn't spicy enough for your liking. We definitely want to get it right for you next time! Could you tell us what your preferred spice level is (e.g., mild, medium, hot)? We'll make sure it's adjusted to your taste in the future.\\\"\\n*   **User:** \\\"The food was too sweet for me.\\\"\\n    *   **Bot:** \\\"We're so sorry the food was too sweet for you. We appreciate you letting us know. Please share your sweetness preference (e.g., less sweet, not at all sweet) so we can prepare your future orders exactly to your liking.\\\"\\n*   **User:** \\\"The portion size was really small.\\\"\\n    *   **Bot:** \\\"We understand your disappointment with the portion size. We value your feedback and will definitely review this with our kitchen team. To make it up to you, would you be interested in a discount on your next order, or would you prefer a voucher?\\\"\\n*   **User:** \\\"The food was greasy.\\\"\\n     *   **Bot:** \\\"We're sorry to hear that the food was too greasy for you. We'll pass this on to the kitchen to ensure better preparation in the future. Can we offer you a discount on your next order to try something different?\\\"\\n*   **User:** \\\"The food was undercooked.\\\"\\n      *   **Bot:** \\\"We sincerely apologize that your food was undercooked. This is not up to our standards. We can offer a refund or send a new meal immediately. What would you prefer?\\\"\\n*   **User:** \\\"The vegetables were overcooked\\\"\\n        *   **Bot:** \\\"We're very sorry to hear that your vegetables were overcooked. This is not up to our standards. We'll inform the kitchen and in the future, we can ensure your vegetables are cooked to your preference. Could we offer you a discount on your next order to try something different?\\\"\\n\\n**Positive Feedback:**\\n\\n*   **User:** \\\"I loved the food!\\\"\\n    *   **Bot:** \\\"That's fantastic to hear! Thank you so much for your positive feedback. We're thrilled you enjoyed your meal and hope to serve you again soon!\\\"\\n*   **User:** \\\"Fantastic service as always!\\\"\\n    *   **Bot:** \\\"Thank you so much for your kind words! We're delighted to know you're enjoying our service. We really appreciate your loyalty and look forward to serving you again!\\\"\\n*    **User:** \\\"The delivery driver was so friendly!\\\"\\n    *   **Bot:** \\\"Thank you for letting us know! We're so happy you had a great experience with our delivery driver. We'll make sure they receive your positive feedback.\\\"\\n\\n**Key Improvements and Considerations:**\\n\\n*   **Variety:** The responses vary more in phrasing, avoiding repetition.\\n*   **Probing Questions:** The chatbot asks more follow-up questions to better understand preferences.\\n*   **Clear Options:** Offers clear options (\\\"replacement,\\\" \\\"refund,\\\" \\\"voucher,\\\" \\\"discount\\\").\\n*   **Consistency:** Maintains a professional and helpful tone throughout.\\n*   **Flexibility:** Can handle different types of complaints with appropriate responses.\\n*   **Personalized experience:** The responses are focused on the customer and their specific issue.\\n\\n**How to use it:**\\n\\n*   **Pattern Matching:** You can use pattern matching or keyword analysis to identify the general topic of the complaint (e.g., \\\"cold,\\\" \\\"late,\\\" \\\"wrong\\\").\\n*   **Contextual Understanding:** Use keywords or phrases to select a more specific response (e.g., \\\"too sweet\\\" triggers a sweetness-related response).\\n*   **A/B Testing:** Test different responses to see which performs best (e.g., which incentive leads to more repeat orders).\\n\\nLet me know if you'd like any adjustments or more examples!\\n \n",
            "\n",
            "-------------------------------------------------------------------------------- \n",
            "\n",
            "Role: user \n",
            "\n",
            "make more scenarios \n",
            "\n",
            "-------------------------------------------------------------------------------- \n",
            "\n",
            "Role: model \n",
            "\n",
            "Okay, let's expand the scenarios with more diverse situations and slightly different nuances in user complaints and chatbot responses. I'll aim for a mix of common issues and less frequent ones, keeping the same principles of empathy, proactive solutions, and clear options.\\n\\n**New Scenarios and Responses:**\\n\\n**Packaging and Presentation:**\\n\\n*   **User:** \\\"The food was all messed up in the container.\\\"\\n    *   **Bot:** \\\"We're so sorry to hear that your food arrived in a mess. We understand how frustrating that is. We'll review our packaging methods to ensure this doesn't happen again. Would you like us to send a replacement or offer a refund?\\\"\\n*   **User:** \\\"The container was leaking!\\\"\\n    *   **Bot:** \\\"Oh no, we apologize that your container was leaking! That's definitely not what we want for our customers. We'll improve our packaging to prevent this in the future. We can offer a replacement of your meal or a full refund – which would you prefer?\\\"\\n*   **User:** \\\"The presentation of the food was poor.\\\"\\n    *   **Bot:** \\\"We appreciate you letting us know about the presentation of your meal. We strive to deliver meals that are both delicious and visually appealing. We'll share this feedback with our kitchen team to improve our plating. We'd like to offer you a discount on your next order, would that be acceptable?\\\"\\n\\n**Ingredients and Quality:**\\n\\n*   **User:** \\\"There was a hair in my food!\\\"\\n    *   **Bot:** \\\"We are deeply sorry to hear that you found a hair in your food. This is unacceptable and we will address it immediately. We will make sure this issue is addressed to our kitchen staff. We would like to offer a full refund of your order or a replacement meal - please let us know what you prefer.\\\"\\n*   **User:** \\\"The chicken was dry and tough.\\\"\\n    *   **Bot:** \\\"We're very sorry to hear the chicken wasn't up to par. We strive to ensure all our meals are cooked to perfection. We'll make sure this is addressed with the kitchen staff, and you can be assured we will be more cautious with the cooking in the future. Would you like to try a different dish on the menu with a discount or we could offer a refund?\\\"\\n*   **User:** \\\"The salad was wilted and not fresh.\\\"\\n    *   **Bot:** \\\"We're so sorry to hear your salad was wilted. We prioritize fresh ingredients and we will be working with the kitchen to ensure the ingredients are as fresh as possible. We can offer you a discount on your next order, or we can offer a refund. What would you prefer?\\\"\\n*  **User:** \\\"I think one of the ingredients was off\\\"\\n    *   **Bot:** \\\"We sincerely apologize that you had a bad experience with your food. We will be working with our kitchen and supplier to ensure all ingredients are fresh and safe. We'd like to offer you a refund or a replacement meal of your choice - please let us know what you would prefer.\\\"\\n*   **User:** \\\"I have an allergy and the food had an ingredient I asked not to be added!\\\"\\n    *   **Bot:** \\\"We are so sorry about this! We take allergies extremely seriously and we apologize profusely for this. We will be retraining our staff and kitchen to ensure this doesn't happen again. We will offer a full refund and a voucher for your next order.\\\"\\n\\n**Order Modifications and Special Requests:**\\n\\n*   **User:** \\\"I asked for no onions, but they were included.\\\"\\n    *   **Bot:** \\\"We apologize that your specific request for no onions was missed. We'll ensure our staff pays closer attention to special instructions moving forward. We will gladly send a replacement order made to your specification. Would that be okay?\\\"\\n*   **User:** \\\"I requested a specific delivery time and it was not honoured.\\\"\\n    *   **Bot:** \\\"We're very sorry that your requested delivery time was not met. We understand how important timely deliveries are. We can offer a voucher for your next order - or would you prefer a refund of your delivery fee?\\\"\\n\\n**Customer Service and Communication:**\\n\\n*   **User:** \\\"I tried to call but no one answered.\\\"\\n    *   **Bot:** \\\"We apologize that you had trouble reaching us by phone. We're working to improve our customer service availability. To make up for this, would you like a voucher for your next purchase or can we help with your current issue via chat?\\\"\\n*   **User:** \\\"The chat support was not helpful.\\\"\\n    *   **Bot:** \\\"We're very sorry to hear that you did not receive the help you needed via chat. We will address this with our support team immediately. Would you like to elaborate on your issue so we can resolve it for you now? Also, we can offer a voucher for your next order.\\\"\\n* **User:** \\\"It took so long to place my order\\\"\\n    *  **Bot:** \\\"We apologize for the delay in placing your order. We'll work to make the order process quicker and more efficient. We can offer a discount on your order for your trouble. Is this something you would be happy with?\\\"\\n\\n**Less Common, but Important Issues:**\\n\\n*   **User:** \\\"My order was missing an item I paid for\\\"\\n    *   **Bot:** \\\"We are very sorry that your order was missing an item. We will rectify this by offering a refund for the item, or by sending the item to you directly. Which would you prefer?\\\"\\n*    **User:** \\\"I got a totally different cuisine than I ordered!\\\"\\n    *  **Bot:** \\\"We sincerely apologise for this. This is definitely a big mistake and we are not happy this happened. We'll send the correct order right away or issue a full refund and a voucher for your next order. What would you prefer?\\\"\\n\\n**Positive Feedback with Specific Mentions:**\\n\\n*   **User:** \\\"The delivery driver was so friendly and efficient!\\\"\\n    *   **Bot:** \\\"That's wonderful to hear! We're glad you had a great experience with our delivery driver. We'll make sure to pass on your positive feedback to them.\\\"\\n*   **User:** \\\"I loved the new dish you recommended!\\\"\\n    *   **Bot:** \\\"We're so happy you enjoyed our recommendation! We're always looking for ways to provide you with the best dining experience. Thank you for trusting our suggestion!\\\"\\n* **User:** \\\"Your app was very easy to use and order!\\\"\\n     *  **Bot:** \\\"Thank you for letting us know! We're so happy you enjoyed your experience with our app and we will continue to try to improve it. We look forward to serving you again soon!\\\"\\n\\n**Key Takeaways from these expansions:**\\n\\n*   **Increased specificity:** The scenarios now address more precise issues related to food quality, packaging, service, and special requests.\\n*   **More varied responses:** The bot is more flexible in how it responds, offering different types of solutions and showing empathy in various situations.\\n*   **Addresses less common issues:** The scenarios now cover some of the less frequent but still important customer pain points, like missing items, or communication difficulties.\\n*   **Highlights positive interaction:** Positive feedback responses are more specific and mention the reason behind the positive sentiment.\\n\\nThis expanded set of scenarios should make your chatbot even more capable of handling a wider range of customer interactions. Let me know if there's anything else you'd like to explore!\\n \n",
            "\n",
            "-------------------------------------------------------------------------------- \n",
            "\n"
          ]
        }
      ],
      "source": [
        "# @title Show the conversation, in colab.\n",
        "import mimetypes\n",
        "\n",
        "def show_file(file_data):\n",
        "    mime_type = file_data[\"mime_type\"]\n",
        "\n",
        "    if drive_id := file_data.get(\"drive_id\", None):\n",
        "        path = next(\n",
        "            pathlib.Path(f\"/gdrive/.shortcut-targets-by-id/{drive_id}\").glob(\"*\")\n",
        "        )\n",
        "        name = path\n",
        "        # data = path.read_bytes()\n",
        "        kwargs = {\"filename\": path}\n",
        "    elif url := file_data.get(\"url\", None):\n",
        "        name = url\n",
        "        kwargs = {\"url\": url}\n",
        "        # response = requests.get(url)\n",
        "        # data = response.content\n",
        "    elif data := file_data.get(\"inline_data\", None):\n",
        "        name = None\n",
        "        kwargs = {\"data\": data}\n",
        "    elif name := file_data.get(\"filename\", None):\n",
        "        if not pathlib.Path(name).exists():\n",
        "            raise IOError(\n",
        "                f\"local file: `{name}` does not exist. You can upload files to \"\n",
        "                'Colab using the file manager (\"📁 Files\"in the left toolbar)'\n",
        "            )\n",
        "    else:\n",
        "        raise ValueError(\"Either `drive_id`, `url` or `inline_data` must be provided.\")\n",
        "\n",
        "        print(f\"File:\\n    name: {name}\\n    mime_type: {mime_type}\\n\")\n",
        "        return\n",
        "\n",
        "    format = mimetypes.guess_extension(mime_type).strip(\".\")\n",
        "    if mime_type.startswith(\"image/\"):\n",
        "        image = IPython.display.Image(**kwargs, width=256)\n",
        "        IPython.display.display(image)\n",
        "        print()\n",
        "        return\n",
        "\n",
        "    if mime_type.startswith(\"audio/\"):\n",
        "        if len(data) < 2**12:\n",
        "            audio = IPython.display.Audio(**kwargs)\n",
        "            IPython.display.display(audio)\n",
        "            print()\n",
        "            return\n",
        "\n",
        "    if mime_type.startswith(\"video/\"):\n",
        "        if len(data) < 2**12:\n",
        "            audio = IPython.display.Video(**kwargs, mimetype=mime_type)\n",
        "            IPython.display.display(audio)\n",
        "            print()\n",
        "            return\n",
        "\n",
        "    print(f\"File:\\n    name: {name}\\n    mime_type: {mime_type}\\n\")\n",
        "\n",
        "\n",
        "for content in gais_contents:\n",
        "    if role := content.get(\"role\", None):\n",
        "        print(\"Role:\", role, \"\\n\")\n",
        "\n",
        "    for n, part in enumerate(content[\"parts\"]):\n",
        "        if text := part.get(\"text\", None):\n",
        "            print(text, \"\\n\")\n",
        "\n",
        "        elif file_data := part.get(\"file_data\", None):\n",
        "            show_file(file_data)\n",
        "\n",
        "    print(\"-\" * 80, \"\\n\")"
      ]
    }
  ],
  "metadata": {
    "colab": {
      "collapsed_sections": [
        "Tce3stUlHN0L"
      ],
      "name": "aistudio_gemini_prompt_freeform.ipynb",
      "toc_visible": true,
      "provenance": []
    },
    "kernelspec": {
      "display_name": "Python 3",
      "name": "python3"
    }
  },
  "nbformat": 4,
  "nbformat_minor": 0
}